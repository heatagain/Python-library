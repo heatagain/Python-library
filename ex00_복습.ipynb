{
 "cells": [
  {
   "cell_type": "code",
   "execution_count": 17,
   "id": "1fce25b4",
   "metadata": {},
   "outputs": [],
   "source": [
    "# 리스트 생성\n",
    "list1 = [1,2,3,4,5]"
   ]
  },
  {
   "cell_type": "code",
   "execution_count": 18,
   "id": "9d1bdd79",
   "metadata": {},
   "outputs": [
    {
     "data": {
      "text/plain": [
       "2629626255872"
      ]
     },
     "execution_count": 18,
     "metadata": {},
     "output_type": "execute_result"
    }
   ],
   "source": [
    "# 리스트의 주소값 확인\n",
    "id(list1)"
   ]
  },
  {
   "cell_type": "code",
   "execution_count": 19,
   "id": "643e2134",
   "metadata": {},
   "outputs": [],
   "source": [
    "# 리스트에 값 추가\n",
    "list1.append(6)"
   ]
  },
  {
   "cell_type": "code",
   "execution_count": 20,
   "id": "7315640d",
   "metadata": {},
   "outputs": [
    {
     "data": {
      "text/plain": [
       "2629626255872"
      ]
     },
     "execution_count": 20,
     "metadata": {},
     "output_type": "execute_result"
    }
   ],
   "source": [
    "# 리스트의 주소값 확인\n",
    "id(list1)"
   ]
  },
  {
   "cell_type": "code",
   "execution_count": 21,
   "id": "552d541a",
   "metadata": {},
   "outputs": [
    {
     "data": {
      "text/plain": [
       "2629626206592"
      ]
     },
     "execution_count": 21,
     "metadata": {},
     "output_type": "execute_result"
    }
   ],
   "source": [
    "# 리스트에 새로운 값 할당\n",
    "list1 = [1,2,3,4]\n",
    "id(list1)"
   ]
  },
  {
   "cell_type": "code",
   "execution_count": 22,
   "id": "6c9bd5d0",
   "metadata": {},
   "outputs": [
    {
     "data": {
      "text/plain": [
       "2629626206592"
      ]
     },
     "execution_count": 22,
     "metadata": {},
     "output_type": "execute_result"
    }
   ],
   "source": [
    "list2 = list1\n",
    "id(list2)"
   ]
  },
  {
   "cell_type": "code",
   "execution_count": 26,
   "id": "f9096f77",
   "metadata": {},
   "outputs": [],
   "source": [
    "#list2.append(5)\n",
    "list1.append(6)"
   ]
  },
  {
   "cell_type": "code",
   "execution_count": 27,
   "id": "b03f7f0b",
   "metadata": {},
   "outputs": [
    {
     "name": "stdout",
     "output_type": "stream",
     "text": [
      "list1 :  [1, 2, 3, 4, 5, 6]\n",
      "list2 :  [1, 2, 3, 4, 5, 6]\n"
     ]
    }
   ],
   "source": [
    "print(\"list1 : \", list1)\n",
    "print(\"list2 : \", list2)"
   ]
  },
  {
   "cell_type": "code",
   "execution_count": 31,
   "id": "1a32d89a",
   "metadata": {},
   "outputs": [
    {
     "data": {
      "text/plain": [
       "2629626218752"
      ]
     },
     "execution_count": 31,
     "metadata": {},
     "output_type": "execute_result"
    }
   ],
   "source": [
    "# 다른 주소로 값만 가져오기\n",
    "# .copy() : 값만 가져오는 기능\n",
    "list3 = list1.copy()\n",
    "id(list3)"
   ]
  },
  {
   "cell_type": "code",
   "execution_count": 28,
   "id": "4a152cf1",
   "metadata": {},
   "outputs": [
    {
     "data": {
      "text/plain": [
       "str"
      ]
     },
     "execution_count": 28,
     "metadata": {},
     "output_type": "execute_result"
    }
   ],
   "source": [
    "str1 = '문자열'\n",
    "type(str1)"
   ]
  },
  {
   "cell_type": "code",
   "execution_count": 29,
   "id": "2560f724",
   "metadata": {},
   "outputs": [
    {
     "data": {
      "text/plain": [
       "int"
      ]
     },
     "execution_count": 29,
     "metadata": {},
     "output_type": "execute_result"
    }
   ],
   "source": [
    "int1 = 60\n",
    "type(int1)"
   ]
  },
  {
   "cell_type": "code",
   "execution_count": 30,
   "id": "b8608622",
   "metadata": {},
   "outputs": [
    {
     "data": {
      "text/plain": [
       "str"
      ]
     },
     "execution_count": 30,
     "metadata": {},
     "output_type": "execute_result"
    }
   ],
   "source": [
    "int1 = '문자열'\n",
    "type(int1)"
   ]
  },
  {
   "cell_type": "markdown",
   "id": "b3c1ad7c",
   "metadata": {},
   "source": [
    "### 리스트"
   ]
  },
  {
   "cell_type": "code",
   "execution_count": null,
   "id": "49ed2414",
   "metadata": {},
   "outputs": [],
   "source": [
    "# remove, insert, pop, append, count, len, reverse, sort, 인덱싱, 슬라이싱, index ...\n",
    "# 인덱싱, 슬라이싱\n",
    "# append\n",
    "# remove"
   ]
  },
  {
   "cell_type": "code",
   "execution_count": 42,
   "id": "70b86bed",
   "metadata": {},
   "outputs": [
    {
     "name": "stdout",
     "output_type": "stream",
     "text": [
      "[1, 2, 3, 4, 5, 6, 7, 8, 9, 10, 11, 12, 13, 14, 15, 16, 17, 18, 19, 20, 21, 22, 23, 24, 25, 26, 27, 28, 29, 30, 31, 32, 33, 34, 35, 36, 37, 38, 39, 40, 41, 42, 43, 44, 45, 46, 47, 48, 49, 50]\n"
     ]
    }
   ],
   "source": [
    "# 1 ~ 50까지가 담긴 리스트 생성하기\n",
    "# 반복문 사용\n",
    "# 비어있는 리스트 생성(1부터 50까지 담을 용도)\n",
    "list1 = []\n",
    "# 리스트에 값 추가\n",
    "for i in range(1,51):\n",
    "    list1.append(i) # append : 리스트에 값 추가\n",
    "    \n",
    "print(list1)"
   ]
  },
  {
   "cell_type": "code",
   "execution_count": 50,
   "id": "546d5bf9",
   "metadata": {},
   "outputs": [
    {
     "name": "stdout",
     "output_type": "stream",
     "text": [
      "10\n"
     ]
    },
    {
     "data": {
      "text/plain": [
       "[15, 16, 17, 18, 19, 20, 21, 22, 23, 24, 25]"
      ]
     },
     "execution_count": 50,
     "metadata": {},
     "output_type": "execute_result"
    }
   ],
   "source": [
    "# 인덱싱 슬라이싱\n",
    "# 대괄호 []\n",
    "# 10 출력하기\n",
    "print(list1[9])\n",
    "# 15 ~ 25 출력하기\n",
    "list1[14:25]"
   ]
  },
  {
   "cell_type": "code",
   "execution_count": null,
   "id": "e7cdae5b",
   "metadata": {},
   "outputs": [],
   "source": [
    "# print : 원하는 위치에서 출력 가능 -> 실행\n",
    "# 변수명 출력 : 마지막 위치에서만 출력 가능 -> 출력"
   ]
  },
  {
   "cell_type": "code",
   "execution_count": 53,
   "id": "25293be2",
   "metadata": {},
   "outputs": [
    {
     "name": "stdout",
     "output_type": "stream",
     "text": [
      "asdf\n",
      "asdf\n"
     ]
    },
    {
     "data": {
      "text/plain": [
       "'asdf\\nasdf'"
      ]
     },
     "execution_count": 53,
     "metadata": {},
     "output_type": "execute_result"
    }
   ],
   "source": [
    "# \\n : 개행\n",
    "str1 = \"asdf\\nasdf\"\n",
    "print(str1)\n",
    "str1"
   ]
  },
  {
   "cell_type": "markdown",
   "id": "06587190",
   "metadata": {},
   "source": [
    "### 딕셔너리\n",
    "- key, value로 이루어짐"
   ]
  },
  {
   "cell_type": "code",
   "execution_count": 69,
   "id": "19663179",
   "metadata": {},
   "outputs": [
    {
     "data": {
      "text/plain": [
       "['이동윤', '양승호', '한국인', '이승훈', '박건하']"
      ]
     },
     "execution_count": 69,
     "metadata": {},
     "output_type": "execute_result"
    }
   ],
   "source": [
    "# dic_team 변수명을 사용해서 딕셔너리 만들기\n",
    "# 이름 나이 key값 사용\n",
    "# 팀원들의 정보\n",
    "dic_team = {}\n",
    "dic_team = {'이름':['이동윤','양승호','한국인','이승훈','박건하'] , '나이' : [29,27,29,24,26]}\n",
    "dic_team['이름']"
   ]
  },
  {
   "cell_type": "code",
   "execution_count": 70,
   "id": "88938e03",
   "metadata": {},
   "outputs": [],
   "source": [
    "import pandas as pd\n",
    "test_pd = pd.DataFrame(dic_team)"
   ]
  },
  {
   "cell_type": "code",
   "execution_count": 71,
   "id": "68636e1e",
   "metadata": {},
   "outputs": [],
   "source": [
    "test_pd.to_csv(\"asdf.csv\" , encoding = 'cp949')"
   ]
  },
  {
   "cell_type": "code",
   "execution_count": null,
   "id": "47fbf498",
   "metadata": {},
   "outputs": [],
   "source": []
  },
  {
   "cell_type": "code",
   "execution_count": null,
   "id": "2af95151",
   "metadata": {},
   "outputs": [],
   "source": []
  },
  {
   "cell_type": "code",
   "execution_count": null,
   "id": "edc077a5",
   "metadata": {},
   "outputs": [],
   "source": []
  },
  {
   "cell_type": "code",
   "execution_count": null,
   "id": "4df3e4f0",
   "metadata": {},
   "outputs": [],
   "source": []
  },
  {
   "cell_type": "code",
   "execution_count": null,
   "id": "8a2e7601",
   "metadata": {},
   "outputs": [],
   "source": []
  },
  {
   "cell_type": "code",
   "execution_count": null,
   "id": "0d569fd5",
   "metadata": {},
   "outputs": [],
   "source": []
  },
  {
   "cell_type": "code",
   "execution_count": null,
   "id": "5f09c461",
   "metadata": {},
   "outputs": [],
   "source": []
  },
  {
   "cell_type": "code",
   "execution_count": null,
   "id": "f1d2c529",
   "metadata": {},
   "outputs": [],
   "source": []
  },
  {
   "cell_type": "code",
   "execution_count": null,
   "id": "40120649",
   "metadata": {},
   "outputs": [],
   "source": []
  },
  {
   "cell_type": "code",
   "execution_count": null,
   "id": "87de0868",
   "metadata": {},
   "outputs": [],
   "source": []
  },
  {
   "cell_type": "code",
   "execution_count": null,
   "id": "c6a333d5",
   "metadata": {},
   "outputs": [],
   "source": []
  },
  {
   "cell_type": "code",
   "execution_count": null,
   "id": "875ce518",
   "metadata": {},
   "outputs": [],
   "source": []
  },
  {
   "cell_type": "code",
   "execution_count": null,
   "id": "6aa2a2a5",
   "metadata": {},
   "outputs": [],
   "source": []
  }
 ],
 "metadata": {
  "kernelspec": {
   "display_name": "Python 3 (ipykernel)",
   "language": "python",
   "name": "python3"
  },
  "language_info": {
   "codemirror_mode": {
    "name": "ipython",
    "version": 3
   },
   "file_extension": ".py",
   "mimetype": "text/x-python",
   "name": "python",
   "nbconvert_exporter": "python",
   "pygments_lexer": "ipython3",
   "version": "3.9.7"
  }
 },
 "nbformat": 4,
 "nbformat_minor": 5
}
